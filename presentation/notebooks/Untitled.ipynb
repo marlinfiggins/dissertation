{
 "cells": [
  {
   "cell_type": "code",
   "execution_count": 22,
   "id": "e9f215b9",
   "metadata": {},
   "outputs": [
    {
     "data": {
      "image/png": "[encoded data removed]",
      "text/plain": [
       "<Figure size 900x100 with 1 Axes>"
      ]
     },
     "metadata": {},
     "output_type": "display_data"
    }
   ],
   "source": [
    "import matplotlib.pyplot as plt\n",
    "import matplotlib.patches as patches\n",
    "\n",
    "def create_color_coded_sequence_no_text(sequence, output_file=None):\n",
    "    \"\"\"\n",
    "    Generate a color-coded sequence visualization without text and with specific colors.\n",
    "\n",
    "    Parameters:\n",
    "    - sequence: A string of DNA bases (e.g., \"ACTGCTCA\").\n",
    "    - output_file: The file path to save the SVG output.\n",
    "\n",
    "    Returns:\n",
    "    - None: Saves the SVG to the specified file.\n",
    "    \"\"\"\n",
    "    # Define specific colors for each nucleotide\n",
    "    colors = {'A': '#ff595e', 'C': '#ffca3a', 'T': '#8ac926', 'G': '#1982c4'}\n",
    "    \n",
    "    # Create a figure and axis\n",
    "    fig, ax = plt.subplots(figsize=(len(sequence), 1))\n",
    "    ax.set_xlim(0, len(sequence))\n",
    "    ax.set_ylim(0, 1)\n",
    "    ax.axis('off')  # Hide axes\n",
    "    \n",
    "    # Create rectangles for each character in the sequence\n",
    "    for i, char in enumerate(sequence):\n",
    "        color = colors.get(char.upper(), 'grey')  # Default to grey for unknown characters\n",
    "        rect = patches.Rectangle((i, 0), 1, 1, facecolor=color, edgecolor='black', linewidth=2.5)\n",
    "        ax.add_patch(rect)\n",
    "\n",
    "    # Save as SVG\n",
    "    if output_file:\n",
    "        plt.savefig(output_file, bbox_inches=\"tight\")\n",
    "        \n",
    "# Example usage\n",
    "sequence_example = \"ACTGCTAGA\"\n",
    "output_file = \"test_sequence.svg\"\n",
    "create_color_coded_sequence_no_text(sequence_example, output_file)"
   ]
  },
  {
   "cell_type": "code",
   "execution_count": 23,
   "id": "c11ae157",
   "metadata": {},
   "outputs": [
    {
     "data": {
      "image/png": "[encoded data removed]",
      "text/plain": [
       "<Figure size 900x100 with 1 Axes>"
      ]
     },
     "metadata": {},
     "output_type": "display_data"
    }
   ],
   "source": [
    "sequence_example = \"ACGCCTAGA\"\n",
    "output_file = \"test_sequence_1.svg\"\n",
    "create_color_coded_sequence_no_text(sequence_example, output_file)"
   ]
  },
  {
   "cell_type": "code",
   "execution_count": null,
   "id": "086f434a",
   "metadata": {},
   "outputs": [],
   "source": []
  }
 ],
 "metadata": {
  "kernelspec": {
   "display_name": "Python 3 (ipykernel)",
   "language": "python",
   "name": "python3"
  },
  "language_info": {
   "codemirror_mode": {
    "name": "ipython",
    "version": 3
   },
   "file_extension": ".py",
   "mimetype": "text/x-python",
   "name": "python",
   "nbconvert_exporter": "python",
   "pygments_lexer": "ipython3",
   "version": "3.11.7"
  }
 },
 "nbformat": 4,
 "nbformat_minor": 5
}
